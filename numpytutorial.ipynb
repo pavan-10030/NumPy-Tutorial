{
 "cells": [
  {
   "cell_type": "markdown",
   "id": "61012925-20c1-4548-9e0a-53d9b0048df7",
   "metadata": {},
   "source": [
    "# Numpy Tutorial"
   ]
  },
  {
   "cell_type": "code",
   "execution_count": 1,
   "id": "7ccaeec6-d1bd-4837-b870-2aa866612adf",
   "metadata": {},
   "outputs": [],
   "source": [
    "import numpy as np"
   ]
  },
  {
   "cell_type": "code",
   "execution_count": 2,
   "id": "941f3002-9cbb-4451-963d-b96f5112dba2",
   "metadata": {},
   "outputs": [],
   "source": [
    "myarr=np.array([[2,4,6,8]],np.int64)"
   ]
  },
  {
   "cell_type": "code",
   "execution_count": 3,
   "id": "f4882e4d-6421-406b-a0af-74627f1ff321",
   "metadata": {},
   "outputs": [
    {
     "data": {
      "text/plain": [
       "array([[2, 4, 6, 8]])"
      ]
     },
     "execution_count": 3,
     "metadata": {},
     "output_type": "execute_result"
    }
   ],
   "source": [
    "myarr"
   ]
  },
  {
   "cell_type": "code",
   "execution_count": 5,
   "id": "9dc445a1-a73d-45ef-ab61-e63c6ba08a47",
   "metadata": {},
   "outputs": [
    {
     "data": {
      "text/plain": [
       "(1, 4)"
      ]
     },
     "execution_count": 5,
     "metadata": {},
     "output_type": "execute_result"
    }
   ],
   "source": [
    "myarr.shape"
   ]
  },
  {
   "cell_type": "code",
   "execution_count": 6,
   "id": "469f2745-b79f-440e-a25f-5cbec51f8632",
   "metadata": {},
   "outputs": [
    {
     "data": {
      "text/plain": [
       "np.int64(4)"
      ]
     },
     "execution_count": 6,
     "metadata": {},
     "output_type": "execute_result"
    }
   ],
   "source": [
    "myarr[0,1]"
   ]
  },
  {
   "cell_type": "code",
   "execution_count": 8,
   "id": "d0bb42f2-1677-4f7f-beac-86288d2e4bc2",
   "metadata": {},
   "outputs": [],
   "source": [
    "myarr[0,1]=45"
   ]
  },
  {
   "cell_type": "code",
   "execution_count": 9,
   "id": "3dc9fa99-c7e0-4736-b875-97a199572585",
   "metadata": {},
   "outputs": [
    {
     "data": {
      "text/plain": [
       "array([[ 2, 45,  6,  8]])"
      ]
     },
     "execution_count": 9,
     "metadata": {},
     "output_type": "execute_result"
    }
   ],
   "source": [
    "myarr"
   ]
  },
  {
   "cell_type": "markdown",
   "id": "e639b1c4-4ece-40ae-9bb0-b7ab610c98d7",
   "metadata": {},
   "source": [
    "# Array Creation : Conversion from other python structures"
   ]
  },
  {
   "cell_type": "code",
   "execution_count": 11,
   "id": "b5d40315-b749-4bf5-8a3e-c1b9497b9ea8",
   "metadata": {},
   "outputs": [],
   "source": [
    "listarr=np.array([[1,2,3],[4,5,6],[7,8,9]])"
   ]
  },
  {
   "cell_type": "code",
   "execution_count": 12,
   "id": "af2aae98-00ae-4fc9-a29f-7b6f67ce61ae",
   "metadata": {},
   "outputs": [
    {
     "data": {
      "text/plain": [
       "array([[1, 2, 3],\n",
       "       [4, 5, 6],\n",
       "       [7, 8, 9]])"
      ]
     },
     "execution_count": 12,
     "metadata": {},
     "output_type": "execute_result"
    }
   ],
   "source": [
    "listarr"
   ]
  },
  {
   "cell_type": "code",
   "execution_count": 13,
   "id": "d181e64f-b09f-4207-9370-9c8c855495f1",
   "metadata": {},
   "outputs": [
    {
     "data": {
      "text/plain": [
       "dtype('int64')"
      ]
     },
     "execution_count": 13,
     "metadata": {},
     "output_type": "execute_result"
    }
   ],
   "source": [
    "listarr.dtype"
   ]
  },
  {
   "cell_type": "code",
   "execution_count": 14,
   "id": "791706e0-1953-4542-b3e2-e42a712ffe0c",
   "metadata": {},
   "outputs": [
    {
     "data": {
      "text/plain": [
       "(3, 3)"
      ]
     },
     "execution_count": 14,
     "metadata": {},
     "output_type": "execute_result"
    }
   ],
   "source": [
    "listarr.shape"
   ]
  },
  {
   "cell_type": "code",
   "execution_count": 15,
   "id": "3a888f54-6fc8-4258-8726-e2c679295259",
   "metadata": {},
   "outputs": [
    {
     "data": {
      "text/plain": [
       "9"
      ]
     },
     "execution_count": 15,
     "metadata": {},
     "output_type": "execute_result"
    }
   ],
   "source": [
    "listarr.size"
   ]
  },
  {
   "cell_type": "markdown",
   "id": "eaecd438-341a-4a26-ad65-0634777e364b",
   "metadata": {},
   "source": [
    "# Intrinsic Numpy Array Creation (arange,zeros,ones,etc..)"
   ]
  },
  {
   "cell_type": "code",
   "execution_count": 16,
   "id": "6ec7414e-2810-4a78-86d8-30e6316abd68",
   "metadata": {},
   "outputs": [],
   "source": [
    "zeroarr=np.zeros((2,5)) #create an array of 2 rows and 5 columns filled with zeroes"
   ]
  },
  {
   "cell_type": "code",
   "execution_count": 17,
   "id": "07da31a1-4afe-4469-95b0-84c58122e73e",
   "metadata": {},
   "outputs": [
    {
     "data": {
      "text/plain": [
       "array([[0., 0., 0., 0., 0.],\n",
       "       [0., 0., 0., 0., 0.]])"
      ]
     },
     "execution_count": 17,
     "metadata": {},
     "output_type": "execute_result"
    }
   ],
   "source": [
    "zeroarr"
   ]
  },
  {
   "cell_type": "code",
   "execution_count": 18,
   "id": "a3d742f9-6948-4d78-a408-596a2be06308",
   "metadata": {},
   "outputs": [
    {
     "data": {
      "text/plain": [
       "dtype('float64')"
      ]
     },
     "execution_count": 18,
     "metadata": {},
     "output_type": "execute_result"
    }
   ],
   "source": [
    "zeroarr.dtype"
   ]
  },
  {
   "cell_type": "code",
   "execution_count": 19,
   "id": "279ef245-20bc-4901-83b4-e2ee81817329",
   "metadata": {},
   "outputs": [
    {
     "data": {
      "text/plain": [
       "(2, 5)"
      ]
     },
     "execution_count": 19,
     "metadata": {},
     "output_type": "execute_result"
    }
   ],
   "source": [
    "zeroarr.shape"
   ]
  },
  {
   "cell_type": "code",
   "execution_count": 20,
   "id": "f070d966-cc67-4b4b-a371-160d21544065",
   "metadata": {},
   "outputs": [],
   "source": [
    "rngarr=np.arange(10)"
   ]
  },
  {
   "cell_type": "code",
   "execution_count": 21,
   "id": "24afa74e-a77b-4025-b7c8-7fb01fa9f954",
   "metadata": {},
   "outputs": [
    {
     "data": {
      "text/plain": [
       "array([0, 1, 2, 3, 4, 5, 6, 7, 8, 9])"
      ]
     },
     "execution_count": 21,
     "metadata": {},
     "output_type": "execute_result"
    }
   ],
   "source": [
    "rngarr"
   ]
  },
  {
   "cell_type": "code",
   "execution_count": 24,
   "id": "985487a1-2694-4e33-b1ce-1e38fa193cbd",
   "metadata": {},
   "outputs": [
    {
     "name": "stdout",
     "output_type": "stream",
     "text": [
      "0 1 2 3 4 5 6 7 8 9 "
     ]
    }
   ],
   "source": [
    "for num in rngarr:\n",
    "    print(num ,end=\" \")"
   ]
  },
  {
   "cell_type": "code",
   "execution_count": 25,
   "id": "fd265aa0-60b2-48c1-b989-b376366920e9",
   "metadata": {},
   "outputs": [],
   "source": [
    "lspace=np.linspace(1,10,10) #creates an array of ten elements from which are linerarly spaced linspace(startele,endele,no_of_ele)"
   ]
  },
  {
   "cell_type": "code",
   "execution_count": 26,
   "id": "d44f37c8-baa9-47af-a594-27f214b9172f",
   "metadata": {},
   "outputs": [
    {
     "data": {
      "text/plain": [
       "array([ 1.,  2.,  3.,  4.,  5.,  6.,  7.,  8.,  9., 10.])"
      ]
     },
     "execution_count": 26,
     "metadata": {},
     "output_type": "execute_result"
    }
   ],
   "source": [
    "lspace"
   ]
  },
  {
   "cell_type": "code",
   "execution_count": 28,
   "id": "df3bd798-03c1-4818-a61e-8971db85cd77",
   "metadata": {},
   "outputs": [],
   "source": [
    "emp=np.empty((4,5)) #creates an array of 4 rows and 5 columns which are filled with random numbers"
   ]
  },
  {
   "cell_type": "code",
   "execution_count": 29,
   "id": "7488fabb-ec16-45f8-8e5d-77cb1145f295",
   "metadata": {},
   "outputs": [
    {
     "data": {
      "text/plain": [
       "array([[4.67296746e-307, 1.69121096e-306, 1.11261434e-306,\n",
       "        1.89146896e-307, 7.56571288e-307],\n",
       "       [3.11525958e-307, 1.24610723e-306, 1.37962320e-306,\n",
       "        1.29060871e-306, 2.22518251e-306],\n",
       "       [1.33511969e-306, 1.78022342e-306, 1.05700345e-307,\n",
       "        1.24610383e-306, 9.34593493e-307],\n",
       "       [8.90104918e-307, 1.69119602e-306, 1.33511222e-306,\n",
       "        2.22522596e-306, 1.42410974e-306]])"
      ]
     },
     "execution_count": 29,
     "metadata": {},
     "output_type": "execute_result"
    }
   ],
   "source": [
    "emp"
   ]
  },
  {
   "cell_type": "code",
   "execution_count": 32,
   "id": "6a065379-95c3-4724-a417-4626eea537a5",
   "metadata": {},
   "outputs": [],
   "source": [
    "#creates an identity matrix of specified size.An identity matrix is a matrix whose diagonal elements are 1 and all elements are zeroes\n",
    "idearr=np.identity(3) "
   ]
  },
  {
   "cell_type": "code",
   "execution_count": 31,
   "id": "bc120dba-39e1-4cea-a074-0bbc8b459da9",
   "metadata": {},
   "outputs": [
    {
     "data": {
      "text/plain": [
       "array([[1., 0., 0.],\n",
       "       [0., 1., 0.],\n",
       "       [0., 0., 1.]])"
      ]
     },
     "execution_count": 31,
     "metadata": {},
     "output_type": "execute_result"
    }
   ],
   "source": [
    "idearr"
   ]
  },
  {
   "cell_type": "markdown",
   "id": "726151e7-67c0-4c3b-860a-8942cbb57221",
   "metadata": {},
   "source": [
    "# Important - reshape method"
   ]
  },
  {
   "cell_type": "code",
   "execution_count": 33,
   "id": "c3362971-440e-4dd2-afc5-ffe69c67cd33",
   "metadata": {},
   "outputs": [],
   "source": [
    "elearr=np.arange(99)"
   ]
  },
  {
   "cell_type": "code",
   "execution_count": 34,
   "id": "a6211b63-b5d6-48b4-8213-64acdf0f37e1",
   "metadata": {},
   "outputs": [
    {
     "data": {
      "text/plain": [
       "array([ 0,  1,  2,  3,  4,  5,  6,  7,  8,  9, 10, 11, 12, 13, 14, 15, 16,\n",
       "       17, 18, 19, 20, 21, 22, 23, 24, 25, 26, 27, 28, 29, 30, 31, 32, 33,\n",
       "       34, 35, 36, 37, 38, 39, 40, 41, 42, 43, 44, 45, 46, 47, 48, 49, 50,\n",
       "       51, 52, 53, 54, 55, 56, 57, 58, 59, 60, 61, 62, 63, 64, 65, 66, 67,\n",
       "       68, 69, 70, 71, 72, 73, 74, 75, 76, 77, 78, 79, 80, 81, 82, 83, 84,\n",
       "       85, 86, 87, 88, 89, 90, 91, 92, 93, 94, 95, 96, 97, 98])"
      ]
     },
     "execution_count": 34,
     "metadata": {},
     "output_type": "execute_result"
    }
   ],
   "source": [
    "elearr"
   ]
  },
  {
   "cell_type": "code",
   "execution_count": 53,
   "id": "881944c8-5a55-44d2-bc18-968d6a2e538b",
   "metadata": {},
   "outputs": [],
   "source": [
    "elearr=elearr.reshape(3,33) #reshapes the array into three rows with each row containing 33 elements"
   ]
  },
  {
   "cell_type": "code",
   "execution_count": 42,
   "id": "4a332749-66c5-4e00-b993-08f658a38495",
   "metadata": {},
   "outputs": [
    {
     "data": {
      "text/plain": [
       "array([[ 0,  1,  2,  3,  4,  5,  6,  7,  8,  9, 10, 11, 12, 13, 14, 15,\n",
       "        16, 17, 18, 19, 20, 21, 22, 23, 24, 25, 26, 27, 28, 29, 30, 31,\n",
       "        32],\n",
       "       [33, 34, 35, 36, 37, 38, 39, 40, 41, 42, 43, 44, 45, 46, 47, 48,\n",
       "        49, 50, 51, 52, 53, 54, 55, 56, 57, 58, 59, 60, 61, 62, 63, 64,\n",
       "        65],\n",
       "       [66, 67, 68, 69, 70, 71, 72, 73, 74, 75, 76, 77, 78, 79, 80, 81,\n",
       "        82, 83, 84, 85, 86, 87, 88, 89, 90, 91, 92, 93, 94, 95, 96, 97,\n",
       "        98]])"
      ]
     },
     "execution_count": 42,
     "metadata": {},
     "output_type": "execute_result"
    }
   ],
   "source": [
    "elearr"
   ]
  },
  {
   "cell_type": "code",
   "execution_count": 38,
   "id": "44c5c22f-af33-4d7a-aac8-6b13c25e17ac",
   "metadata": {},
   "outputs": [
    {
     "data": {
      "text/plain": [
       "(3, 33)"
      ]
     },
     "execution_count": 38,
     "metadata": {},
     "output_type": "execute_result"
    }
   ],
   "source": [
    "elearr.shape"
   ]
  },
  {
   "cell_type": "code",
   "execution_count": 44,
   "id": "f3590385-372f-4daa-bf73-6ad7eaa48df6",
   "metadata": {},
   "outputs": [],
   "source": [
    "elearr=elearr.ravel() #reshapes as a 1-d array"
   ]
  },
  {
   "cell_type": "code",
   "execution_count": 45,
   "id": "e85c45db-6500-4b1d-a180-f577fb14c6dd",
   "metadata": {},
   "outputs": [
    {
     "data": {
      "text/plain": [
       "array([ 0,  1,  2,  3,  4,  5,  6,  7,  8,  9, 10, 11, 12, 13, 14, 15, 16,\n",
       "       17, 18, 19, 20, 21, 22, 23, 24, 25, 26, 27, 28, 29, 30, 31, 32, 33,\n",
       "       34, 35, 36, 37, 38, 39, 40, 41, 42, 43, 44, 45, 46, 47, 48, 49, 50,\n",
       "       51, 52, 53, 54, 55, 56, 57, 58, 59, 60, 61, 62, 63, 64, 65, 66, 67,\n",
       "       68, 69, 70, 71, 72, 73, 74, 75, 76, 77, 78, 79, 80, 81, 82, 83, 84,\n",
       "       85, 86, 87, 88, 89, 90, 91, 92, 93, 94, 95, 96, 97, 98])"
      ]
     },
     "execution_count": 45,
     "metadata": {},
     "output_type": "execute_result"
    }
   ],
   "source": [
    "elearr"
   ]
  },
  {
   "cell_type": "markdown",
   "id": "cfc09dfb-d44d-4af5-bea2-7c79c004bc58",
   "metadata": {},
   "source": [
    "# Numpy Axis"
   ]
  },
  {
   "cell_type": "code",
   "execution_count": 46,
   "id": "175806c5-06f0-4666-815c-cfe40c79b82b",
   "metadata": {},
   "outputs": [],
   "source": [
    "x=[[1,2,3],[4,5,6],[7,1,0]]"
   ]
  },
  {
   "cell_type": "code",
   "execution_count": 47,
   "id": "98e7331d-66d2-49d5-a193-8cfa57017eb3",
   "metadata": {},
   "outputs": [],
   "source": [
    "ar=np.array(x)"
   ]
  },
  {
   "cell_type": "code",
   "execution_count": 48,
   "id": "9fe78092-e72a-4c87-8be4-0d9d17d8e4df",
   "metadata": {},
   "outputs": [
    {
     "data": {
      "text/plain": [
       "array([12,  8,  9])"
      ]
     },
     "execution_count": 48,
     "metadata": {},
     "output_type": "execute_result"
    }
   ],
   "source": [
    "ar.sum(axis=0) "
   ]
  },
  {
   "cell_type": "code",
   "execution_count": 49,
   "id": "8eca45c3-aa31-41ec-b029-d4efab4ea5f3",
   "metadata": {},
   "outputs": [
    {
     "data": {
      "text/plain": [
       "array([ 6, 15,  8])"
      ]
     },
     "execution_count": 49,
     "metadata": {},
     "output_type": "execute_result"
    }
   ],
   "source": [
    "ar.sum(axis=1)"
   ]
  },
  {
   "cell_type": "code",
   "execution_count": 50,
   "id": "2f1993bf-4e44-4b7b-9787-eb0f64c397bc",
   "metadata": {},
   "outputs": [
    {
     "data": {
      "text/plain": [
       "array([[1, 4, 7],\n",
       "       [2, 5, 1],\n",
       "       [3, 6, 0]])"
      ]
     },
     "execution_count": 50,
     "metadata": {},
     "output_type": "execute_result"
    }
   ],
   "source": [
    "ar.T #returns transpose of a matrix"
   ]
  },
  {
   "cell_type": "code",
   "execution_count": 51,
   "id": "444512ea-11e0-4b60-b693-11a0fdb37238",
   "metadata": {},
   "outputs": [
    {
     "data": {
      "text/plain": [
       "2"
      ]
     },
     "execution_count": 51,
     "metadata": {},
     "output_type": "execute_result"
    }
   ],
   "source": [
    "ar.ndim #return dimension of an array"
   ]
  },
  {
   "cell_type": "code",
   "execution_count": 52,
   "id": "36dac22b-af89-4382-b8b3-da8a09b8be32",
   "metadata": {},
   "outputs": [
    {
     "data": {
      "text/plain": [
       "9"
      ]
     },
     "execution_count": 52,
     "metadata": {},
     "output_type": "execute_result"
    }
   ],
   "source": [
    "ar.size #returns number of elements in array"
   ]
  },
  {
   "cell_type": "code",
   "execution_count": 54,
   "id": "d84001aa-a9b6-41ce-a213-62b91ab5e274",
   "metadata": {},
   "outputs": [
    {
     "data": {
      "text/plain": [
       "72"
      ]
     },
     "execution_count": 54,
     "metadata": {},
     "output_type": "execute_result"
    }
   ],
   "source": [
    "ar.nbytes #returns the total number of bytes your array consumed"
   ]
  },
  {
   "cell_type": "markdown",
   "id": "18f1b74d-9ecb-494f-b301-f40458280642",
   "metadata": {},
   "source": [
    "# Important - argmax()  and argmin()"
   ]
  },
  {
   "cell_type": "code",
   "execution_count": 57,
   "id": "5fae761d-0499-4536-8be3-555c0c0d59b4",
   "metadata": {},
   "outputs": [],
   "source": [
    "one = np.array([1,32,12,45,99,21,32]) # argmax() method returns the maximum element index in an array"
   ]
  },
  {
   "cell_type": "code",
   "execution_count": 56,
   "id": "f67e4db1-25e9-48f2-a93d-1cafa7f96195",
   "metadata": {},
   "outputs": [
    {
     "data": {
      "text/plain": [
       "np.int64(4)"
      ]
     },
     "execution_count": 56,
     "metadata": {},
     "output_type": "execute_result"
    }
   ],
   "source": [
    "one.argmax()"
   ]
  },
  {
   "cell_type": "code",
   "execution_count": 58,
   "id": "8a405e2a-a819-494b-bb02-d657e404f829",
   "metadata": {},
   "outputs": [
    {
     "data": {
      "text/plain": [
       "np.int64(0)"
      ]
     },
     "execution_count": 58,
     "metadata": {},
     "output_type": "execute_result"
    }
   ],
   "source": [
    "one.argmin()"
   ]
  },
  {
   "cell_type": "code",
   "execution_count": 59,
   "id": "ab0839b9-d693-41e2-b4ec-edf8fea73fd3",
   "metadata": {},
   "outputs": [
    {
     "data": {
      "text/plain": [
       "array([0, 2, 5, 1, 6, 3, 4])"
      ]
     },
     "execution_count": 59,
     "metadata": {},
     "output_type": "execute_result"
    }
   ],
   "source": [
    "one.argsort() # returns the array of indices of sorted array"
   ]
  },
  {
   "cell_type": "code",
   "execution_count": 60,
   "id": "3213df69-20d0-49f1-91fe-7406f78d270f",
   "metadata": {},
   "outputs": [
    {
     "data": {
      "text/plain": [
       "array([[1, 2, 3],\n",
       "       [4, 5, 6],\n",
       "       [7, 1, 0]])"
      ]
     },
     "execution_count": 60,
     "metadata": {},
     "output_type": "execute_result"
    }
   ],
   "source": [
    "ar"
   ]
  },
  {
   "cell_type": "code",
   "execution_count": 61,
   "id": "c6ce67b0-5bd4-417f-a4d4-5b3679972265",
   "metadata": {},
   "outputs": [
    {
     "data": {
      "text/plain": [
       "array([[1.        , 1.41421356, 1.73205081],\n",
       "       [2.        , 2.23606798, 2.44948974],\n",
       "       [2.64575131, 1.        , 0.        ]])"
      ]
     },
     "execution_count": 61,
     "metadata": {},
     "output_type": "execute_result"
    }
   ],
   "source": [
    "np.sqrt(ar)"
   ]
  },
  {
   "cell_type": "code",
   "execution_count": 62,
   "id": "2b58cc43-d144-437b-ac00-babeed3d8ac5",
   "metadata": {},
   "outputs": [
    {
     "data": {
      "text/plain": [
       "np.int64(7)"
      ]
     },
     "execution_count": 62,
     "metadata": {},
     "output_type": "execute_result"
    }
   ],
   "source": [
    "ar.max() #returns maximum element from array"
   ]
  },
  {
   "cell_type": "code",
   "execution_count": 63,
   "id": "a5610687-e771-4027-bef4-35ca24d736e7",
   "metadata": {},
   "outputs": [
    {
     "data": {
      "text/plain": [
       "np.int64(0)"
      ]
     },
     "execution_count": 63,
     "metadata": {},
     "output_type": "execute_result"
    }
   ],
   "source": [
    "ar.min() #returns minimum element from array"
   ]
  },
  {
   "cell_type": "code",
   "execution_count": 64,
   "id": "93d69e4d-d988-407d-9986-0866d8c521d1",
   "metadata": {},
   "outputs": [
    {
     "data": {
      "text/plain": [
       "(array([0, 1, 1, 1, 2]), array([2, 0, 1, 2, 0]))"
      ]
     },
     "execution_count": 64,
     "metadata": {},
     "output_type": "execute_result"
    }
   ],
   "source": [
    "np.where(ar>2)"
   ]
  },
  {
   "cell_type": "code",
   "execution_count": null,
   "id": "a5df21d3-28a9-4c53-9631-d1ea9931d829",
   "metadata": {},
   "outputs": [],
   "source": []
  }
 ],
 "metadata": {
  "kernelspec": {
   "display_name": "Python 3 (ipykernel)",
   "language": "python",
   "name": "python3"
  },
  "language_info": {
   "codemirror_mode": {
    "name": "ipython",
    "version": 3
   },
   "file_extension": ".py",
   "mimetype": "text/x-python",
   "name": "python",
   "nbconvert_exporter": "python",
   "pygments_lexer": "ipython3",
   "version": "3.10.0"
  }
 },
 "nbformat": 4,
 "nbformat_minor": 5
}
